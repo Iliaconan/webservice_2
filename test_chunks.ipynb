{
 "cells": [
  {
   "cell_type": "code",
   "execution_count": 2,
   "metadata": {},
   "outputs": [
    {
     "name": "stdout",
     "output_type": "stream",
     "text": [
      "('Взаимодействие между основными компонентами Indeed Access Manager '\n",
      " 'осуществляется через порты, которые находятся в диапазонах от 49152 до '\n",
      " '65535. Эти порты используются для протоколов HTTP и HTTPS, обеспечивая '\n",
      " 'безопасное и эффективное сетевое взаимодействие между компонентами системы.')\n"
     ]
    }
   ],
   "source": [
    "from api.chunks import Chunk\n",
    "import pprint\n",
    "chunk = Chunk()\n",
    "query = 'Между какими портами осуществляется взаимодействие между основными компонентами Indeed AM?'\n",
    "result = chunk.get_answer(query)\n",
    "pprint.pprint(result)"
   ]
  },
  {
   "cell_type": "code",
   "execution_count": 3,
   "metadata": {},
   "outputs": [
    {
     "name": "stdout",
     "output_type": "stream",
     "text": [
      "('Мы являемся компанией Simble, которая предлагает инновационные решения в '\n",
      " 'области автострахования. Наша основная деятельность заключается в '\n",
      " 'предоставлении услуг страхования, включая КАСКО и ОСАГО, с возможностью '\n",
      " 'оформления полисов на короткий срок. Мы стремимся сделать процесс '\n",
      " 'страхования удобным и доступным для наших клиентов, предлагая различные '\n",
      " 'тарифы и возможность выбора страховки в зависимости от потребностей '\n",
      " 'водителя.')\n"
     ]
    }
   ],
   "source": [
    "pprint.pprint(result)"
   ]
  },
  {
   "cell_type": "code",
   "execution_count": null,
   "metadata": {},
   "outputs": [],
   "source": []
  }
 ],
 "metadata": {
  "kernelspec": {
   "display_name": ".venv",
   "language": "python",
   "name": "python3"
  },
  "language_info": {
   "codemirror_mode": {
    "name": "ipython",
    "version": 3
   },
   "file_extension": ".py",
   "mimetype": "text/x-python",
   "name": "python",
   "nbconvert_exporter": "python",
   "pygments_lexer": "ipython3",
   "version": "3.12.7"
  }
 },
 "nbformat": 4,
 "nbformat_minor": 2
}
